{
 "cells": [
  {
   "cell_type": "code",
   "execution_count": 1,
   "id": "8faac9ce-201c-4782-a01e-df2a19374f50",
   "metadata": {},
   "outputs": [
    {
     "name": "stdout",
     "output_type": "stream",
     "text": [
      "2\n"
     ]
    }
   ],
   "source": [
    "#question 1 answer\n",
    "class solution:\n",
    "    def threeSumClosest(self, nums: list[int], target: int) -> int:\n",
    "        nums=sorted(nums)\n",
    "        diff=float('inf')\n",
    "        for i in range(len(nums)-1):\n",
    "            start=i+1\n",
    "            end=len(nums)-1\n",
    "            while(start<end):\n",
    "                sum=nums[i]+nums[start]+nums[end]\n",
    "                if sum==target:\n",
    "                    return target\n",
    "                elif abs(target-sum)<diff:\n",
    "                    diff=abs(target-sum)\n",
    "                    ans=sum\n",
    "                if sum>target:\n",
    "                    end-=1\n",
    "                else:\n",
    "                    start+=1\n",
    "        return ans\n",
    "s=solution()\n",
    "nums = [-1,2,1,-4]\n",
    "target = 1\n",
    "print(s.threeSumClosest(nums,target))"
   ]
  },
  {
   "cell_type": "code",
   "execution_count": 2,
   "id": "841b27ce-6153-4712-8e92-3635b79ccfa9",
   "metadata": {},
   "outputs": [
    {
     "name": "stdout",
     "output_type": "stream",
     "text": [
      "2\n"
     ]
    }
   ],
   "source": [
    "#question 4 answer\n",
    "class solution:\n",
    "    def searchInsert(self,nums,target):\n",
    "        self.nums=nums\n",
    "        self.target=target\n",
    "        left = 0\n",
    "        right = len(nums)-1\n",
    "        while right>=left:\n",
    "            mid = (left + right)//2\n",
    "\n",
    "            if nums[mid]==target:\n",
    "                return mid\n",
    "            elif nums[mid]<target:\n",
    "                left = mid+1\n",
    "            else:\n",
    "                right = mid-1\n",
    "                \n",
    "        return left\n",
    "nums = [1,3,5,6]\n",
    "target = 5\n",
    "s=solution()\n",
    "output=s.searchInsert(nums,target)\n",
    "print(output)"
   ]
  },
  {
   "cell_type": "code",
   "execution_count": 3,
   "id": "00e8d973-3106-4be7-9470-31b57240671c",
   "metadata": {},
   "outputs": [
    {
     "name": "stdout",
     "output_type": "stream",
     "text": [
      "['1', '2', '4']\n"
     ]
    }
   ],
   "source": [
    "#question 5 answer\n",
    "def plusOne(digits):\n",
    "    d=int(''.join(map(str,digits)))\n",
    "    d+=1\n",
    "    return list(str(d))\n",
    "digits=[1,2,3]\n",
    "print(plusOne(digits))"
   ]
  },
  {
   "cell_type": "code",
   "execution_count": 4,
   "id": "804b5510-818b-4628-940b-6886533b2b18",
   "metadata": {},
   "outputs": [
    {
     "name": "stdout",
     "output_type": "stream",
     "text": [
      "1\n"
     ]
    }
   ],
   "source": [
    "#question 5 answer\n",
    "class solution(object):\n",
    "    def singleNumber(self, nums):\n",
    "        for i in nums:\n",
    "            if nums.count(i) == 1:\n",
    "                return i\n",
    "s=solution()\n",
    "nums = [2,2,1]\n",
    "print(s.singleNumber(nums))"
   ]
  },
  {
   "cell_type": "code",
   "execution_count": 5,
   "id": "7e2e4410-43ba-4a76-9e9d-7ab968f37a1d",
   "metadata": {},
   "outputs": [
    {
     "name": "stdout",
     "output_type": "stream",
     "text": [
      "False\n"
     ]
    }
   ],
   "source": [
    "#question 8 answer\n",
    "def can_attend_all_meetings(intervals):\n",
    "    intervals.sort(key=lambda x: x[0])  \n",
    "    for i in range(1, len(intervals)):\n",
    "        if intervals[i][0] < intervals[i-1][1]:\n",
    "            return False\n",
    "    return True\n",
    "intervals = [[0,30],[5,10],[15,20]]\n",
    "print(can_attend_all_meetings(intervals))"
   ]
  },
  {
   "cell_type": "code",
   "execution_count": null,
   "id": "e88cacec-bb9e-4088-8452-890db811da8c",
   "metadata": {},
   "outputs": [],
   "source": []
  }
 ],
 "metadata": {
  "kernelspec": {
   "display_name": "Python 3 (ipykernel)",
   "language": "python",
   "name": "python3"
  },
  "language_info": {
   "codemirror_mode": {
    "name": "ipython",
    "version": 3
   },
   "file_extension": ".py",
   "mimetype": "text/x-python",
   "name": "python",
   "nbconvert_exporter": "python",
   "pygments_lexer": "ipython3",
   "version": "3.10.6"
  }
 },
 "nbformat": 4,
 "nbformat_minor": 5
}
